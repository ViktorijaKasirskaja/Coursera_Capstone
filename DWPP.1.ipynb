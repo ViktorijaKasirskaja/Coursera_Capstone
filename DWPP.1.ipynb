{
  "nbformat": 4,
  "nbformat_minor": 0,
  "metadata": {
    "kernelspec": {
      "display_name": "Python 3",
      "language": "python",
      "name": "python3"
    },
    "language_info": {
      "codemirror_mode": {
        "name": "ipython",
        "version": 3
      },
      "file_extension": ".py",
      "mimetype": "text/x-python",
      "name": "python",
      "nbconvert_exporter": "python",
      "pygments_lexer": "ipython3",
      "version": "3.7.7"
    },
    "colab": {
      "name": "trial_1-5.ipynb",
      "provenance": [],
      "collapsed_sections": [],
      "include_colab_link": true
    }
  },
  "cells": [
    {
      "cell_type": "markdown",
      "metadata": {
        "id": "view-in-github",
        "colab_type": "text"
      },
      "source": [
        "<a href=\"https://colab.research.google.com/github/ViktorijaKasirskaja/Coursera_Capstone/blob/master/DWPP.1.ipynb\" target=\"_parent\"><img src=\"https://colab.research.google.com/assets/colab-badge.svg\" alt=\"Open In Colab\"/></a>"
      ]
    },
    {
      "cell_type": "markdown",
      "metadata": {
        "id": "IGroNc0Uy0_K"
      },
      "source": [
        "# Sprint 1: Data & Python\n",
        "## Part 5: Number Guessing Game Project\n"
      ]
    },
    {
      "cell_type": "markdown",
      "metadata": {
        "id": "G5m38yb9y0_P"
      },
      "source": [
        "## Your first Project\n",
        "\n",
        "Welcome to your very first Project Part! You will practice and test your Python skills to create a Number Guessing Game.\n",
        "\n",
        "This exercise will test several basic skills that will be important throughout your Python career: loops, user input, converting types, and comparing values.\n",
        "\n",
        "More specifically, programs all have to get input to do something interesting, and that input often comes from the user. Knowing how to ask the user for input is not only useful, but allows us to think about the type of data we're getting, how to convert it into a format we can use, and what the format would be.\n",
        "\n",
        "As you might know, Python only provides two kinds of loops: `for` and `while`. Knowing how to write and use them will serve you well throughout your Python career. The fact that nearly every type of data knows how to work inside a `for` loop makes such loops common and useful. If you're working with database records, elements in a file, or the results from searching for text using regular expressions, you'll be using `for` loops quite a bit.\n",
        "\n",
        "<br>\n",
        "\n",
        "For this exercise:\n",
        "\n",
        "- Write a function (`guessing_game`) that takes no arguments.\n",
        "- When run, the function chooses a random integer between 0 and 100 (inclusive).\n",
        "- Then, ask the user to guess what number has been chosen.\n",
        "- Each time the user enters a guess, the program indicates one of the following:\n",
        "  - Too high\n",
        "  - Too low\n",
        "  - Just right\n",
        "- If the user guesses correctly, the program exits. Otherwise, the user is asked to try again.\n",
        "- The program only exits after the user guesses correctly.\n",
        "\n",
        "<br>\n",
        "\n",
        "We'll also be prompting the user to enter text with the `input` function. The function takes a single string as an argument, which is displayed to the user. The function then returns the string containing whatever the user entered; for example:\n",
        "\n"
      ]
    },
    {
      "cell_type": "code",
      "metadata": {
        "id": "k0s_xjAa-yCa"
      },
      "source": [
        "def print_double_input():\n",
        "    \"\"\"This function asks for an input, multiplies it by 2 and prints it.\"\"\"\n",
        "    user_value = int(input('Enter a number: '))\n",
        "    print(f'Double of your input is {user_value * 2}!')"
      ],
      "execution_count": 1,
      "outputs": []
    },
    {
      "cell_type": "markdown",
      "metadata": {
        "id": "-m7Kugci-zgr"
      },
      "source": [
        "\n",
        "NOTE If the user presses Enter when presented with the input prompt, the value returned by `input` is an empty string, not `None`. Indeed, the return value from `input` will always be a string, regardless of what the user entered.\n",
        "\n",
        "<br>\n",
        "\n",
        "## Requirements\n",
        "\n",
        "- Have a function `guessing_game` created.\n",
        "- The function should accept valid inputs and deal with invalid ones.\n",
        "- Randomisation module should be used correctly.\n",
        "- The program should fully implement the guessing game logic.\n",
        "- Provide instructions for the user on how to use your application.\n",
        "- Describe what your functions do (preferrably using docstrings).\n",
        "- Use meaningful variable names that will help others understand your code.\n",
        "- Be ready to discuss ways how your code could be improved further.\n",
        "\n",
        "<br>\n",
        "\n",
        "## Evaluation Criteria\n",
        "\n",
        "- Adherence to the requirements. How well did you meet the requirements?\n",
        "- Code quality. You will be given tips on whether:\n",
        "   - the code is well-structured;\n",
        "   - commented-out and unused code is removed;\n",
        "   - the code easy to read.\n",
        "\n",
        "- Code performance. You will be given tips on whether:\n",
        "   - Suitable algorithms and data structures were used\n",
        "\n",
        "<br>\n",
        "\n",
        "## Making changes through Google Colab\n",
        "This notebook that you are reading right now is an individual copy made for you. It is the only source which a reviewer will use for your code review. You should therefore save all the progress that you make here by having it open in Google Colab, making the changes there, selecting \"File\"->\"Save a Copy to GitHub\". For a detailed explanation on all the steps required for saving a project, watch this video: [How to save your progress](https://bit.ly/3mD1Xme)\n",
        "\n",
        "To open this notebook in Google colab, use the Google Colab button in the Turing Platform. The first time you open a Github repository through Google Colab can be a bit messy though. We recommend either watching [this video](https://bit.ly/3lomUSF) or following the instructions below:\n",
        "\n",
        "1. Go to http://colab.research.google.com/github, and check ‘Include private repos’ box. If you see any error messages, keep clicking ‘Retry.’ You should eventually authenticate with your Github account and see your GitHub username & have ‘Include private repos’ checked.\n",
        "2. Close the window & click ‘Google Colab’ on the platform. You might continue to see Authentication error messages. Just go through them by clicking ‘Retry’ and authenticating with your GitHub account.\n",
        "3. At some point you are likely to see a popup being blocked. Allow all popups from Google Colab in your browser. \n",
        "4. You should be in the notebook and have its contents visible!\n",
        "\n",
        "---\n",
        "\n",
        "If there are still any things that are unclear, we will be more than happy to help you through Discord ([#product-support](https://discord.com/channels/887305736852484116/887307429308669992)), in standups, and in open sessions.\n",
        "\n",
        "<br>\n",
        "\n",
        "## Submission and scheduling a correction\n",
        "Before submitting your project, double check that you have saved your progress to your GitHub repository. A good way to do that is to open the GitHub link to your repository (available in the Turing Platform) instead of the Google Colab one or by simply refreshing the platform and checking if the notebook preview has your updates. If you see the changes there, you are good to go! Note that reviewers are allowed to only evaluate the work that you have submitted and that once you submit your project, you are no longer allowed to make any changes - so this step is really important.\n",
        "\n",
        "Once you have completed a project and double checked that it is saved in your GitHub repository, go to the Turing Platform and click the button to complete it. The platform then allows you to see the times when reviewers are available to have a call with you and review the project. Simply book a time that suits you. If there are no times available, feel free to message us in the #education_support channel on Discord - we will make sure that a reviewer will add a time for you.\n",
        "\n",
        "<br>\n",
        "\n",
        "## What to expect during a code review?\n",
        "The most common structure for a code review is for the learner to go through their project while sharing their screen, presenting how each part was done and what insights were achieved. The reviewer asks questions to check whether the learner really understands relevant parts of the project, and assigns a rating from 1-5 for each of the evaluation criteria. On average, a review like this takes 40 minutes to complete, but the time can differ based on the project and amount of feedback.\n",
        "\n",
        "The goal of a correction is to test the current limits of your knowledge and give you personalised feedback on how to improve further. Expect the reviewer to give you tips on how to improve things even if you did everything perfectly according to the criteria. We also very strongly advise you to let the reviewer know if you feel unsure about some parts of your knowledge, instead of trying to hide them - this is the best way to improve as the reviewer will be able to confirm or reject your assumptions, while you will not be losing anything by potentially getting a lower score.\n",
        "\n",
        "To pass a correction and unlock the next sprint, you need to achieve a score of 70% or more. If you fail the project, you will be given write access to your repository once again and will be expected to make adjustments based on the feedback received. Once the changes were made, you will be able to submit the project once again and schedule a new code review - as mentioned before, a low score, even a failing one, is nothing to worry about, as you will be able to move forward as soon as you are ready to do so. \n",
        "\n",
        "## Sample Correction Questions\n",
        "\n",
        "During a correction, you may get asked questions that test your understanding of all the topics covered in this sprint (even if they were not directly used in this project).\n",
        "\n",
        "- What are the most important functions of the statistics library?\n",
        "- How to find a character in a string?\n",
        "- How to calculate factorial using Python?\n",
        "- What does a specific line of code in your solution do?\n",
        "\n",
        "## Source\n",
        "\n",
        "This exercise is adapted from the Python Workout book by Reuven M. Lerner."
      ]
    },
    {
      "cell_type": "code",
      "source": [
        "from random import *\n",
        "\n",
        "def guessing_game():\n",
        "    \"\"\"This function promts user to guess the number between 1 and 100. User is provided with two types \n",
        "    of hints - too high, too low. Program exits when user has guessed the number\"\"\"\n",
        "    x=choices(range(1,101), k=1)[0]\n",
        "    user_value = input('Welcome to The Guessing Game! Please, enter a number from 1 to 100: ')\n",
        "    try:\n",
        "        user_value = int(user_value)\n",
        "        while user_value != x:\n",
        "            if user_value < x:\n",
        "                print('Too low')\n",
        "                user_value = int(input('Try again. Please, enter a number from 1 to 100:'))\n",
        "            elif user_value > x:\n",
        "                print('Too high')\n",
        "                user_value = int(input('Try again. Please, enter a number from 1 to 100:'))\n",
        "        else:\n",
        "             print('Just right')\n",
        "    except:\n",
        "        print(f'You have entered value: {user_value}, which is not a number. Please, follow the instructions')\n",
        "        guessing_game()"
      ],
      "metadata": {
        "id": "ckaAu4nmNL73"
      },
      "execution_count": 4,
      "outputs": []
    },
    {
      "cell_type": "code",
      "source": [
        ""
      ],
      "metadata": {
        "id": "HFzGnre-NdVQ"
      },
      "execution_count": null,
      "outputs": []
    }
  ]
}